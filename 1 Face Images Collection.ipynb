{
 "cells": [
  {
   "cell_type": "code",
   "execution_count": 15,
   "id": "c6cf902f",
   "metadata": {},
   "outputs": [
    {
     "name": "stdout",
     "output_type": "stream",
     "text": [
      "Requirement already satisfied: opencv-python in c:\\users\\adex\\anaconda\\lib\\site-packages (4.8.1.78)\n",
      "Requirement already satisfied: numpy>=1.21.2 in c:\\users\\adex\\anaconda\\lib\\site-packages (from opencv-python) (1.24.3)\n"
     ]
    }
   ],
   "source": [
    "!pip install opencv-python"
   ]
  },
  {
   "cell_type": "code",
   "execution_count": 16,
   "id": "fe5dfb8f",
   "metadata": {},
   "outputs": [],
   "source": [
    "import cv2"
   ]
  },
  {
   "cell_type": "code",
   "execution_count": 17,
   "id": "50d90fb5",
   "metadata": {},
   "outputs": [],
   "source": [
    "#image counter\n",
    "counter=0\n",
    "#AI model for face detection in an image/video\n",
    "face_detector=cv2.CascadeClassifier(\"haarcascade_frontalface_default.xml\")"
   ]
  },
  {
   "cell_type": "code",
   "execution_count": 18,
   "id": "088fd0c0",
   "metadata": {},
   "outputs": [
    {
     "data": {
      "text/plain": [
       "< cv2.CascadeClassifier 000002237482C770>"
      ]
     },
     "execution_count": 18,
     "metadata": {},
     "output_type": "execute_result"
    }
   ],
   "source": [
    "face_detector"
   ]
  },
  {
   "cell_type": "code",
   "execution_count": 19,
   "id": "8c694c1d",
   "metadata": {},
   "outputs": [
    {
     "name": "stdout",
     "output_type": "stream",
     "text": [
      "enter the name of the person ade\n"
     ]
    }
   ],
   "source": [
    "person_name=input(\"enter the name of the person \")"
   ]
  },
  {
   "cell_type": "code",
   "execution_count": 20,
   "id": "05cef51e",
   "metadata": {},
   "outputs": [
    {
     "data": {
      "text/plain": [
       "'ade'"
      ]
     },
     "execution_count": 20,
     "metadata": {},
     "output_type": "execute_result"
    }
   ],
   "source": [
    "person_name"
   ]
  },
  {
   "cell_type": "code",
   "execution_count": 21,
   "id": "b366489d",
   "metadata": {},
   "outputs": [
    {
     "name": "stderr",
     "output_type": "stream",
     "text": [
      "<>:6: SyntaxWarning: \"is\" with a literal. Did you mean \"==\"?\n",
      "<>:6: SyntaxWarning: \"is\" with a literal. Did you mean \"==\"?\n",
      "C:\\Users\\ADEX\\AppData\\Local\\Temp\\ipykernel_1284\\2018002361.py:6: SyntaxWarning: \"is\" with a literal. Did you mean \"==\"?\n",
      "  if face_portion is ():\n"
     ]
    },
    {
     "ename": "error",
     "evalue": "OpenCV(4.8.1) D:\\a\\opencv-python\\opencv-python\\opencv\\modules\\imgproc\\src\\resize.cpp:4062: error: (-215:Assertion failed) !ssize.empty() in function 'cv::resize'\n",
     "output_type": "error",
     "traceback": [
      "\u001b[1;31m---------------------------------------------------------------------------\u001b[0m",
      "\u001b[1;31merror\u001b[0m                                     Traceback (most recent call last)",
      "Cell \u001b[1;32mIn[21], line 21\u001b[0m\n\u001b[0;32m     18\u001b[0m counter\u001b[38;5;241m=\u001b[39mcounter\u001b[38;5;241m+\u001b[39m\u001b[38;5;241m1\u001b[39m\n\u001b[0;32m     19\u001b[0m \u001b[38;5;66;03m#print(counter)\u001b[39;00m\n\u001b[1;32m---> 21\u001b[0m face_image\u001b[38;5;241m=\u001b[39mcv2\u001b[38;5;241m.\u001b[39mresize(cropped_image,(\u001b[38;5;241m400\u001b[39m,\u001b[38;5;241m400\u001b[39m))\n\u001b[0;32m     22\u001b[0m file_name\u001b[38;5;241m=\u001b[39m\u001b[38;5;124m'\u001b[39m\u001b[38;5;124m./Images/\u001b[39m\u001b[38;5;124m'\u001b[39m\u001b[38;5;241m+\u001b[39mperson_name\u001b[38;5;241m+\u001b[39m\u001b[38;5;124m\"\u001b[39m\u001b[38;5;124m-\u001b[39m\u001b[38;5;124m\"\u001b[39m\u001b[38;5;241m+\u001b[39m\u001b[38;5;28mstr\u001b[39m(counter)\u001b[38;5;241m+\u001b[39m\u001b[38;5;124m'\u001b[39m\u001b[38;5;124m.jpg\u001b[39m\u001b[38;5;124m'\u001b[39m\n\u001b[0;32m     24\u001b[0m cv2\u001b[38;5;241m.\u001b[39mimwrite(file_name,cropped_image)\n",
      "\u001b[1;31merror\u001b[0m: OpenCV(4.8.1) D:\\a\\opencv-python\\opencv-python\\opencv\\modules\\imgproc\\src\\resize.cpp:4062: error: (-215:Assertion failed) !ssize.empty() in function 'cv::resize'\n"
     ]
    }
   ],
   "source": [
    "while True:\n",
    "    cap=cv2.VideoCapture(0)\n",
    "    success,image=cap.read()\n",
    "    face_portion=face_detector.detectMultiScale(image)\n",
    "    \n",
    "    if face_portion is ():\n",
    "        print(\"Face is not found\")\n",
    "        print(\"success-\",success)\n",
    "        \n",
    "    else:\n",
    "        #print(face_portion)\n",
    "        for (x,y,w,h) in face_portion:\n",
    "            x=x-30 \n",
    "            y=y-30\n",
    "            cropped_image=image[y:y+h+30,x:x+w+30]\n",
    "        \n",
    "        \n",
    "        counter=counter+1\n",
    "        #print(counter)\n",
    "        \n",
    "        face_image=cv2.resize(cropped_image,(400,400))\n",
    "        file_name='./Images/'+person_name+\"-\"+str(counter)+'.jpg'\n",
    "        \n",
    "        cv2.imwrite(file_name,cropped_image)\n",
    "            \n",
    "        cv2.putText(image, \n",
    "                    str(counter), \n",
    "                    (150, 150), \n",
    "                    cv2.FONT_HERSHEY_COMPLEX, \n",
    "                    1,\n",
    "                    (0,255,0), 2)\n",
    "        cv2.rectangle(image, (x, y), (x+w+30, y+h+30), (0, 255, 0), 2)\n",
    "        cv2.imshow(\"Image Window\",image)\n",
    "        \n",
    "    \n",
    "    if cv2.waitKey(100)==ord('q') or counter==100:\n",
    "        break\n",
    "cap.release()\n",
    "cv2.destroyAllWindows()"
   ]
  },
  {
   "cell_type": "code",
   "execution_count": null,
   "id": "3c5d66e9",
   "metadata": {},
   "outputs": [],
   "source": []
  },
  {
   "cell_type": "code",
   "execution_count": null,
   "id": "1a52633c",
   "metadata": {},
   "outputs": [],
   "source": []
  }
 ],
 "metadata": {
  "kernelspec": {
   "display_name": "Python 3 (ipykernel)",
   "language": "python",
   "name": "python3"
  },
  "language_info": {
   "codemirror_mode": {
    "name": "ipython",
    "version": 3
   },
   "file_extension": ".py",
   "mimetype": "text/x-python",
   "name": "python",
   "nbconvert_exporter": "python",
   "pygments_lexer": "ipython3",
   "version": "3.11.4"
  }
 },
 "nbformat": 4,
 "nbformat_minor": 5
}
