{
 "cells": [
  {
   "cell_type": "code",
   "execution_count": 1,
   "id": "f35ceac9",
   "metadata": {},
   "outputs": [],
   "source": [
    "import numpy as np\n",
    "import pandas as pd\n",
    "import matplotlib.pyplot as plt\n",
    "from sklearn.model_selection import GridSearchCV\n",
    "from sklearn.linear_model import LinearRegression\n",
    "from sklearn.tree import DecisionTreeRegressor\n",
    "from sklearn.svm import SVR\n",
    "from sklearn.linear_model import Ridge\n",
    "from sklearn.linear_model import Lasso\n",
    "from sklearn.neighbors import KNeighborsRegressor\n",
    "from sklearn.ensemble import RandomForestRegressor\n",
    "from sklearn import metrics as m "
   ]
  },
  {
   "cell_type": "code",
   "execution_count": 2,
   "id": "832c412b",
   "metadata": {},
   "outputs": [],
   "source": [
    "advert=pd.read_csv(\"Advertising_sales-4.csv\")"
   ]
  },
  {
   "cell_type": "code",
   "execution_count": 3,
   "id": "69d9054f",
   "metadata": {},
   "outputs": [
    {
     "data": {
      "text/html": [
       "<div>\n",
       "<style scoped>\n",
       "    .dataframe tbody tr th:only-of-type {\n",
       "        vertical-align: middle;\n",
       "    }\n",
       "\n",
       "    .dataframe tbody tr th {\n",
       "        vertical-align: top;\n",
       "    }\n",
       "\n",
       "    .dataframe thead th {\n",
       "        text-align: right;\n",
       "    }\n",
       "</style>\n",
       "<table border=\"1\" class=\"dataframe\">\n",
       "  <thead>\n",
       "    <tr style=\"text-align: right;\">\n",
       "      <th></th>\n",
       "      <th>Unnamed: 0</th>\n",
       "      <th>TV</th>\n",
       "      <th>Radio</th>\n",
       "      <th>Newspaper</th>\n",
       "      <th>Sales</th>\n",
       "    </tr>\n",
       "  </thead>\n",
       "  <tbody>\n",
       "    <tr>\n",
       "      <th>Unnamed: 0</th>\n",
       "      <td>1.000000</td>\n",
       "      <td>0.017715</td>\n",
       "      <td>-0.110680</td>\n",
       "      <td>-0.154944</td>\n",
       "      <td>-0.051616</td>\n",
       "    </tr>\n",
       "    <tr>\n",
       "      <th>TV</th>\n",
       "      <td>0.017715</td>\n",
       "      <td>1.000000</td>\n",
       "      <td>0.054809</td>\n",
       "      <td>0.056648</td>\n",
       "      <td>0.782224</td>\n",
       "    </tr>\n",
       "    <tr>\n",
       "      <th>Radio</th>\n",
       "      <td>-0.110680</td>\n",
       "      <td>0.054809</td>\n",
       "      <td>1.000000</td>\n",
       "      <td>0.354104</td>\n",
       "      <td>0.576223</td>\n",
       "    </tr>\n",
       "    <tr>\n",
       "      <th>Newspaper</th>\n",
       "      <td>-0.154944</td>\n",
       "      <td>0.056648</td>\n",
       "      <td>0.354104</td>\n",
       "      <td>1.000000</td>\n",
       "      <td>0.228299</td>\n",
       "    </tr>\n",
       "    <tr>\n",
       "      <th>Sales</th>\n",
       "      <td>-0.051616</td>\n",
       "      <td>0.782224</td>\n",
       "      <td>0.576223</td>\n",
       "      <td>0.228299</td>\n",
       "      <td>1.000000</td>\n",
       "    </tr>\n",
       "  </tbody>\n",
       "</table>\n",
       "</div>"
      ],
      "text/plain": [
       "            Unnamed: 0        TV     Radio  Newspaper     Sales\n",
       "Unnamed: 0    1.000000  0.017715 -0.110680  -0.154944 -0.051616\n",
       "TV            0.017715  1.000000  0.054809   0.056648  0.782224\n",
       "Radio        -0.110680  0.054809  1.000000   0.354104  0.576223\n",
       "Newspaper    -0.154944  0.056648  0.354104   1.000000  0.228299\n",
       "Sales        -0.051616  0.782224  0.576223   0.228299  1.000000"
      ]
     },
     "execution_count": 3,
     "metadata": {},
     "output_type": "execute_result"
    }
   ],
   "source": [
    "advert.corr()"
   ]
  },
  {
   "cell_type": "code",
   "execution_count": 4,
   "id": "e1da6fea",
   "metadata": {},
   "outputs": [],
   "source": [
    "x=advert[['TV','Radio','Newspaper']]"
   ]
  },
  {
   "cell_type": "code",
   "execution_count": 5,
   "id": "24a1122e",
   "metadata": {},
   "outputs": [],
   "source": [
    "y=advert.Sales"
   ]
  },
  {
   "cell_type": "code",
   "execution_count": 6,
   "id": "5315df59",
   "metadata": {},
   "outputs": [],
   "source": [
    "from sklearn.preprocessing import StandardScaler    \n",
    "st_x= StandardScaler()    \n",
    "x= st_x.fit_transform(x)"
   ]
  },
  {
   "cell_type": "code",
   "execution_count": 7,
   "id": "adb3a708",
   "metadata": {},
   "outputs": [],
   "source": [
    "models=[]   # model[] is empty\n",
    "scores=[]   #scores[] is empty"
   ]
  },
  {
   "cell_type": "markdown",
   "id": "4d3db824",
   "metadata": {},
   "source": [
    "# GridSearchCV- RidgeRegression"
   ]
  },
  {
   "cell_type": "code",
   "execution_count": 8,
   "id": "2a278565",
   "metadata": {},
   "outputs": [
    {
     "name": "stdout",
     "output_type": "stream",
     "text": [
      "{'alpha': 0.1}\n",
      "Ridge(alpha=0.1)\n",
      "0.8853679599908248\n"
     ]
    }
   ],
   "source": [
    "parameters = {'alpha':[0.0001,0.001,0.01,0.1]}        \n",
    "c1 = Ridge()\n",
    "grid = GridSearchCV(c1, parameters, cv=10)\n",
    "grid.fit(x,y)\n",
    "print(grid.best_params_)\n",
    "print(grid.best_estimator_)\n",
    "print(grid.best_score_)\n",
    "\n",
    "models.append(c1)   #models[c1]\n",
    "scores.append(grid.best_score_)   #scores[0.8853679599908248]"
   ]
  },
  {
   "cell_type": "markdown",
   "id": "c361778c",
   "metadata": {},
   "source": [
    "# GridSearchCV- LassoRegression"
   ]
  },
  {
   "cell_type": "code",
   "execution_count": 9,
   "id": "0313a668",
   "metadata": {},
   "outputs": [
    {
     "name": "stdout",
     "output_type": "stream",
     "text": [
      "{'alpha': 0.1}\n",
      "Lasso(alpha=0.1)\n",
      "0.8863844264592868\n"
     ]
    }
   ],
   "source": [
    "parameters = {'alpha':[0.0001,0.001,0.01,0.1]}        \n",
    "c2 = Lasso()\n",
    "grid = GridSearchCV(c2, parameters, cv=10)\n",
    "grid.fit(x,y)\n",
    "print(grid.best_params_)\n",
    "print(grid.best_estimator_)\n",
    "print(grid.best_score_)\n",
    "models.append(c2)   #models[c1,c2]\n",
    "scores.append(grid.best_score_)   #scores[0.8863844264592868]"
   ]
  },
  {
   "cell_type": "markdown",
   "id": "f9c949a8",
   "metadata": {},
   "source": [
    "# GridSearchCV- DecisionTreeRegressor"
   ]
  },
  {
   "cell_type": "code",
   "execution_count": 10,
   "id": "6917891f",
   "metadata": {},
   "outputs": [
    {
     "name": "stdout",
     "output_type": "stream",
     "text": [
      "{'criterion': 'absolute_error', 'splitter': 'best'}\n",
      "DecisionTreeRegressor(criterion='absolute_error')\n",
      "0.9570272347905128\n"
     ]
    }
   ],
   "source": [
    "parameters = {'criterion':['squared_error', 'friedman_mse', 'absolute_error', 'poisson'],\n",
    "              'splitter':['best', 'random']\n",
    "              }                  \n",
    "c3 = DecisionTreeRegressor()\n",
    "grid = GridSearchCV(c3, parameters, cv=10)\n",
    "grid.fit(x,y)\n",
    "print(grid.best_params_)\n",
    "print(grid.best_estimator_)\n",
    "print(grid.best_score_)\n",
    "\n",
    "models.append(c3)   #models[c1]\n",
    "scores.append(grid.best_score_)   #scores[0.8863844264592868]()\n",
    "\n"
   ]
  },
  {
   "cell_type": "markdown",
   "id": "bec86f52",
   "metadata": {},
   "source": [
    "# GridSearchCV- Support Vector Regressor(SVR)"
   ]
  },
  {
   "cell_type": "code",
   "execution_count": 11,
   "id": "14a3e77f",
   "metadata": {},
   "outputs": [
    {
     "name": "stdout",
     "output_type": "stream",
     "text": [
      "{'C': 0.05, 'degree': 2, 'gamma': 0.01, 'kernel': 'rbf'}\n",
      "SVR(C=0.05, degree=2, gamma=0.01)\n",
      "-0.03169236078848042\n"
     ]
    }
   ],
   "source": [
    "parameters = {'C': [0.01, 0.05],\n",
    "              'degree': [2, 3],\n",
    "              'gamma':[0.001, 0.01],\n",
    "              'kernel': ['rbf']\n",
    "              }        \n",
    "c4 = SVR()\n",
    "grid = GridSearchCV(c4, parameters, cv=10)\n",
    "grid.fit(x,y)\n",
    "print(grid.best_params_)\n",
    "print(grid.best_estimator_)\n",
    "print(grid.best_score_)\n",
    "\n",
    "models.append(c4)   #models[c1,c2,c3]\n",
    "scores.append(grid.best_score_) "
   ]
  },
  {
   "cell_type": "markdown",
   "id": "65f3ec1e",
   "metadata": {},
   "source": [
    "# GrdidSearchCV- KNeighborsRegressor(KNN)"
   ]
  },
  {
   "cell_type": "code",
   "execution_count": 12,
   "id": "3d4abafb",
   "metadata": {},
   "outputs": [
    {
     "name": "stdout",
     "output_type": "stream",
     "text": [
      "{'metric': 'manhattan', 'n_neighbors': 5}\n",
      "KNeighborsRegressor(metric='manhattan')\n",
      "0.9504601196854001\n"
     ]
    },
    {
     "name": "stderr",
     "output_type": "stream",
     "text": [
      "/opt/anaconda3/lib/python3.8/site-packages/sklearn/model_selection/_validation.py:372: FitFailedWarning: \n",
      "20 fits failed out of a total of 600.\n",
      "The score on these train-test partitions for these parameters will be set to nan.\n",
      "If these failures are not expected, you can try to debug them by setting error_score='raise'.\n",
      "\n",
      "Below are more details about the failures:\n",
      "--------------------------------------------------------------------------------\n",
      "20 fits failed with the following error:\n",
      "Traceback (most recent call last):\n",
      "  File \"/opt/anaconda3/lib/python3.8/site-packages/sklearn/model_selection/_validation.py\", line 680, in _fit_and_score\n",
      "    estimator.fit(X_train, y_train, **fit_params)\n",
      "  File \"/opt/anaconda3/lib/python3.8/site-packages/sklearn/neighbors/_regression.py\", line 213, in fit\n",
      "    return self._fit(X, y)\n",
      "  File \"/opt/anaconda3/lib/python3.8/site-packages/sklearn/neighbors/_base.py\", line 569, in _fit\n",
      "    raise ValueError(\"Expected n_neighbors > 0. Got %d\" % self.n_neighbors)\n",
      "ValueError: Expected n_neighbors > 0. Got 0\n",
      "\n",
      "  warnings.warn(some_fits_failed_message, FitFailedWarning)\n",
      "/opt/anaconda3/lib/python3.8/site-packages/sklearn/model_selection/_search.py:969: UserWarning: One or more of the test scores are non-finite: [       nan 0.91448549 0.93853805 0.94897642 0.94613176 0.95046012\n",
      " 0.94507557 0.9384593  0.93519919 0.93224244 0.93196243 0.93108275\n",
      " 0.92716821 0.92414632 0.91886274 0.91274709 0.90620886 0.89884866\n",
      " 0.89843348 0.89611833 0.89174235 0.89121244 0.88842987 0.8884166\n",
      " 0.88506272 0.88080599 0.87463395 0.87285618 0.87089541 0.86753278\n",
      "        nan 0.92206396 0.93506499 0.94098052 0.94645625 0.94710737\n",
      " 0.94165361 0.93466696 0.92911834 0.92587294 0.9203031  0.91776725\n",
      " 0.91583781 0.90615429 0.90365423 0.90147153 0.90011092 0.8970337\n",
      " 0.89307446 0.88850214 0.88455116 0.88277858 0.87835338 0.87328077\n",
      " 0.87104033 0.86798109 0.8656275  0.86438522 0.85753974 0.85885104]\n",
      "  warnings.warn(\n"
     ]
    }
   ],
   "source": [
    "parameters = {'n_neighbors': range(30),\n",
    "              'metric':['manhattan','euclidean']}        \n",
    "c5 = KNeighborsRegressor()  \n",
    "grid = GridSearchCV(c5, parameters, cv=10)\n",
    "grid.fit(x,y)\n",
    "print(grid.best_params_)\n",
    "print(grid.best_estimator_)\n",
    "print(grid.best_score_)\n",
    "\n",
    "models.append(c5)     #models[c1,c2,c3,c4]\n",
    "scores.append(grid.best_score_) "
   ]
  },
  {
   "cell_type": "markdown",
   "id": "5bfa034e",
   "metadata": {},
   "source": [
    "# GrdidSearchCV- RandomForestRegressor"
   ]
  },
  {
   "cell_type": "code",
   "execution_count": 13,
   "id": "478ecc91",
   "metadata": {},
   "outputs": [
    {
     "name": "stdout",
     "output_type": "stream",
     "text": [
      "{'criterion': 'friedman_mse', 'n_estimators': 17}\n",
      "RandomForestRegressor(criterion='friedman_mse', n_estimators=17)\n",
      "0.9790119427271111\n"
     ]
    }
   ],
   "source": [
    "parameters = {'n_estimators':range(1,20),\n",
    "              'criterion':['squared_error', 'friedman_mse', 'absolute_error', 'poisson']}        \n",
    "c6 = RandomForestRegressor()  \n",
    "grid = GridSearchCV(c6, parameters, cv=10)\n",
    "grid.fit(x,y)\n",
    "print(grid.best_params_)\n",
    "print(grid.best_estimator_)\n",
    "print(grid.best_score_)\n",
    "\n",
    "\n",
    "models.append(c6)      #models[c1,c2,c3,c4,c5]\n",
    "scores.append(grid.best_score_) "
   ]
  },
  {
   "cell_type": "markdown",
   "id": "89f7e521",
   "metadata": {},
   "source": [
    "# GridSearchCV- LinearRegression"
   ]
  },
  {
   "cell_type": "code",
   "execution_count": 14,
   "id": "7b753148",
   "metadata": {},
   "outputs": [
    {
     "name": "stdout",
     "output_type": "stream",
     "text": [
      "{'fit_intercept': True, 'n_jobs': '-1'}\n",
      "LinearRegression(n_jobs='-1')\n",
      "0.8853562237979616\n"
     ]
    }
   ],
   "source": [
    "parameters = {'n_jobs':['-1','1'],\n",
    "              'fit_intercept':[True,False]}        \n",
    "c7 = LinearRegression()  \n",
    "grid = GridSearchCV(c7, parameters, cv=10)\n",
    "grid.fit(x,y)\n",
    "print(grid.best_params_)\n",
    "print(grid.best_estimator_)\n",
    "print(grid.best_score_)\n",
    "\n",
    "\n",
    "models.append(c7)      #models[c1,c2,c3,c4,c5]\n",
    "scores.append(grid.best_score_) "
   ]
  },
  {
   "cell_type": "code",
   "execution_count": 15,
   "id": "04ba6e90",
   "metadata": {},
   "outputs": [],
   "source": [
    "result_data=pd.DataFrame({\"Models\":models,\"Score\":scores})"
   ]
  },
  {
   "cell_type": "code",
   "execution_count": 16,
   "id": "7082f4c7",
   "metadata": {},
   "outputs": [
    {
     "name": "stdout",
     "output_type": "stream",
     "text": [
      "                    Models     Score\n",
      "0                  Ridge()  0.885368\n",
      "1                  Lasso()  0.886384\n",
      "2  DecisionTreeRegressor()  0.957027\n",
      "3                    SVR() -0.031692\n",
      "4    KNeighborsRegressor()  0.950460\n",
      "5  RandomForestRegressor()  0.979012\n",
      "6       LinearRegression()  0.885356\n"
     ]
    }
   ],
   "source": [
    "print(result_data)"
   ]
  }
 ],
 "metadata": {
  "kernelspec": {
   "display_name": "Python 3 (ipykernel)",
   "language": "python",
   "name": "python3"
  },
  "language_info": {
   "codemirror_mode": {
    "name": "ipython",
    "version": 3
   },
   "file_extension": ".py",
   "mimetype": "text/x-python",
   "name": "python",
   "nbconvert_exporter": "python",
   "pygments_lexer": "ipython3",
   "version": "3.10.9"
  }
 },
 "nbformat": 4,
 "nbformat_minor": 5
}
