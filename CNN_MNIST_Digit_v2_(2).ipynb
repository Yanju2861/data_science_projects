{
  "cells": [
    {
      "cell_type": "code",
      "execution_count": 1,
      "id": "b92646c7",
      "metadata": {
        "id": "b92646c7"
      },
      "outputs": [],
      "source": [
        "import tensorflow as tf\n",
        "from tensorflow import keras\n",
        "from keras.datasets import mnist\n",
        "from keras.models import Sequential\n",
        "from keras.layers import Dense,Conv2D,MaxPool2D,Flatten"
      ]
    },
    {
      "cell_type": "markdown",
      "source": [
        "0 1 2 3 4 5 6 7 8 9"
      ],
      "metadata": {
        "id": "-SLIPDL1p1v4"
      },
      "id": "-SLIPDL1p1v4"
    },
    {
      "cell_type": "code",
      "execution_count": 2,
      "id": "d45427d2",
      "metadata": {
        "id": "d45427d2",
        "colab": {
          "base_uri": "https://localhost:8080/"
        },
        "outputId": "cab7c926-e678-4bf5-bb70-37d636a753cb"
      },
      "outputs": [
        {
          "output_type": "stream",
          "name": "stdout",
          "text": [
            "Downloading data from https://storage.googleapis.com/tensorflow/tf-keras-datasets/mnist.npz\n",
            "11490434/11490434 [==============================] - 0s 0us/step\n"
          ]
        }
      ],
      "source": [
        "#load_data\n",
        "(X_train,y_train),(X_test,y_test)=keras.datasets.mnist.load_data()"
      ]
    },
    {
      "cell_type": "code",
      "execution_count": 4,
      "id": "bc46501e",
      "metadata": {
        "id": "bc46501e"
      },
      "outputs": [],
      "source": [
        "X_train = X_train.astype('float32')\n",
        "X_test = X_test.astype('float32')\n",
        "# normalizing the data to help with the training\n",
        "X_train /= 255 # X-Train=X-train/255\n",
        "X_test /= 255  # X_test=X_test/255"
      ]
    },
    {
      "cell_type": "code",
      "execution_count": 5,
      "id": "21f4424f",
      "metadata": {
        "colab": {
          "base_uri": "https://localhost:8080/"
        },
        "id": "21f4424f",
        "outputId": "96817990-fed1-430d-911a-02300e2ad5a1"
      },
      "outputs": [
        {
          "output_type": "execute_result",
          "data": {
            "text/plain": [
              "(60000, 28, 28)"
            ]
          },
          "metadata": {},
          "execution_count": 5
        }
      ],
      "source": [
        "X_train.shape"
      ]
    },
    {
      "cell_type": "code",
      "execution_count": 7,
      "id": "aa6d9676",
      "metadata": {
        "colab": {
          "base_uri": "https://localhost:8080/"
        },
        "id": "aa6d9676",
        "outputId": "f5d945a4-115c-4358-a44d-a8a01acdb03f"
      },
      "outputs": [
        {
          "output_type": "execute_result",
          "data": {
            "text/plain": [
              "(28, 28, 1)"
            ]
          },
          "metadata": {},
          "execution_count": 7
        }
      ],
      "source": [
        "X_train[0].shape    # index of images=0,1,2,...., 59999"
      ]
    },
    {
      "cell_type": "code",
      "execution_count": 6,
      "id": "605923f5",
      "metadata": {
        "id": "605923f5"
      },
      "outputs": [],
      "source": [
        "#reshaping train and test data\n",
        "X_train=X_train.reshape(X_train.shape[0],28,28,1)\n",
        "X_test=X_test.reshape(X_test.shape[0],28,28,1)"
      ]
    },
    {
      "cell_type": "code",
      "execution_count": 8,
      "id": "794d4b16",
      "metadata": {
        "colab": {
          "base_uri": "https://localhost:8080/"
        },
        "id": "794d4b16",
        "outputId": "4a44b3cf-1325-4ea2-e37c-5dbc31953661"
      },
      "outputs": [
        {
          "output_type": "execute_result",
          "data": {
            "text/plain": [
              "(28, 28, 1)"
            ]
          },
          "metadata": {},
          "execution_count": 8
        }
      ],
      "source": [
        "X_train[0].shape"
      ]
    },
    {
      "cell_type": "code",
      "execution_count": 9,
      "id": "6cc408d8",
      "metadata": {
        "colab": {
          "base_uri": "https://localhost:8080/"
        },
        "id": "6cc408d8",
        "outputId": "1daf88e9-1917-46f7-9f82-c82e71e5bbb8"
      },
      "outputs": [
        {
          "output_type": "execute_result",
          "data": {
            "text/plain": [
              "(28, 28, 1)"
            ]
          },
          "metadata": {},
          "execution_count": 9
        }
      ],
      "source": [
        "X_test[0].shape"
      ]
    },
    {
      "cell_type": "code",
      "execution_count": 10,
      "id": "a5187f5e",
      "metadata": {
        "id": "a5187f5e"
      },
      "outputs": [],
      "source": [
        "#create model obj.\n",
        "model=Sequential()\n",
        "\n",
        "# 1 Convolution layer\n",
        "# 2 Max pool layer\n",
        "# 3 fatten layer\n",
        "# 4 Dense layer 1\n",
        "# 5 output layer"
      ]
    },
    {
      "cell_type": "code",
      "execution_count": 11,
      "id": "20aa75a7",
      "metadata": {
        "id": "20aa75a7"
      },
      "outputs": [],
      "source": [
        "#1st convolution layer\n",
        "conv_layer1=Conv2D(filters=32,\n",
        "                   kernel_size=(3,3),\n",
        "                   strides=(1, 1),\n",
        "                   padding='valid',\n",
        "                   activation='relu',\n",
        "                   input_shape=(28,28,1))\n",
        "\n",
        "# n=28, f=3, o=n-f+1=28-3+1=26, No.of filters=32, order will be = 26 * 26 * 32"
      ]
    },
    {
      "cell_type": "code",
      "execution_count": 12,
      "id": "43d7e96e",
      "metadata": {
        "id": "43d7e96e"
      },
      "outputs": [],
      "source": [
        "#maxpooling layer\n",
        "max_layer1=MaxPool2D(pool_size=(2,2))"
      ]
    },
    {
      "cell_type": "code",
      "execution_count": 13,
      "id": "9b2b7b1c",
      "metadata": {
        "id": "9b2b7b1c"
      },
      "outputs": [],
      "source": [
        "flatten_layer=Flatten()"
      ]
    },
    {
      "cell_type": "code",
      "execution_count": 14,
      "id": "3e5090cb",
      "metadata": {
        "id": "3e5090cb"
      },
      "outputs": [],
      "source": [
        "dense_layer1=Dense(units=20,activation='relu')"
      ]
    },
    {
      "cell_type": "code",
      "execution_count": 15,
      "id": "67fa7c95",
      "metadata": {
        "id": "67fa7c95"
      },
      "outputs": [],
      "source": [
        "output_layer=Dense(units=10,activation='softmax')"
      ]
    },
    {
      "cell_type": "code",
      "execution_count": 16,
      "id": "4eb572a1",
      "metadata": {
        "id": "4eb572a1"
      },
      "outputs": [],
      "source": [
        "#adding all layers in cnn model\n",
        "model.add(conv_layer1)\n",
        "model.add(max_layer1)\n",
        "model.add(flatten_layer)\n",
        "model.add(dense_layer1)\n",
        "model.add(output_layer)"
      ]
    },
    {
      "cell_type": "code",
      "execution_count": 18,
      "id": "cebb3be9",
      "metadata": {
        "colab": {
          "base_uri": "https://localhost:8080/"
        },
        "id": "cebb3be9",
        "outputId": "49ef7d7b-5e70-4345-be19-a3a6a550d355"
      },
      "outputs": [
        {
          "output_type": "stream",
          "name": "stdout",
          "text": [
            "Model: \"sequential\"\n",
            "_________________________________________________________________\n",
            " Layer (type)                Output Shape              Param #   \n",
            "=================================================================\n",
            " conv2d (Conv2D)             (None, 26, 26, 32)        320       \n",
            "                                                                 \n",
            " max_pooling2d (MaxPooling2  (None, 13, 13, 32)        0         \n",
            " D)                                                              \n",
            "                                                                 \n",
            " flatten (Flatten)           (None, 5408)              0         \n",
            "                                                                 \n",
            " dense (Dense)               (None, 20)                108180    \n",
            "                                                                 \n",
            " dense_1 (Dense)             (None, 10)                210       \n",
            "                                                                 \n",
            "=================================================================\n",
            "Total params: 108710 (424.65 KB)\n",
            "Trainable params: 108710 (424.65 KB)\n",
            "Non-trainable params: 0 (0.00 Byte)\n",
            "_________________________________________________________________\n"
          ]
        }
      ],
      "source": [
        "model.summary()\n",
        "\n",
        "#FILTER SIZE =3*3\n",
        "#No. of Filters= 32\n",
        "#Parameter = 320\n",
        "# 3*3*32=288, 320-288=32\n",
        "# 5408*20=108160 weights+20 bias= 108180\n",
        "#20 * 10=200 weights+ 10 bias=210"
      ]
    },
    {
      "cell_type": "code",
      "execution_count": 19,
      "id": "4c24c7da",
      "metadata": {
        "id": "4c24c7da"
      },
      "outputs": [],
      "source": [
        "#compile model\n",
        "model.compile(optimizer='adam',loss=\"sparse_categorical_crossentropy\",metrics=['accuracy'])"
      ]
    },
    {
      "cell_type": "code",
      "execution_count": 20,
      "id": "b5dae847",
      "metadata": {
        "colab": {
          "base_uri": "https://localhost:8080/"
        },
        "id": "b5dae847",
        "outputId": "f0c59a79-e358-4e9e-893d-64e809d91ab5"
      },
      "outputs": [
        {
          "output_type": "execute_result",
          "data": {
            "text/plain": [
              "(10000,)"
            ]
          },
          "metadata": {},
          "execution_count": 20
        }
      ],
      "source": [
        "y_test.shape"
      ]
    },
    {
      "cell_type": "code",
      "execution_count": 24,
      "id": "52192bc6",
      "metadata": {
        "colab": {
          "base_uri": "https://localhost:8080/"
        },
        "id": "52192bc6",
        "outputId": "2fc6323a-793b-487c-fde2-110b35450eab"
      },
      "outputs": [
        {
          "output_type": "stream",
          "name": "stdout",
          "text": [
            "Epoch 1/10\n",
            "469/469 [==============================] - 18s 39ms/step - loss: 0.3376 - accuracy: 0.9039 - val_loss: 0.3160 - val_accuracy: 0.9071\n",
            "Epoch 2/10\n",
            "469/469 [==============================] - 20s 42ms/step - loss: 0.3335 - accuracy: 0.9049 - val_loss: 0.3145 - val_accuracy: 0.9101\n",
            "Epoch 3/10\n",
            "469/469 [==============================] - 19s 40ms/step - loss: 0.3313 - accuracy: 0.9054 - val_loss: 0.3135 - val_accuracy: 0.9117\n",
            "Epoch 4/10\n",
            "469/469 [==============================] - 20s 42ms/step - loss: 0.3276 - accuracy: 0.9062 - val_loss: 0.3080 - val_accuracy: 0.9121\n",
            "Epoch 5/10\n",
            "469/469 [==============================] - 18s 39ms/step - loss: 0.3248 - accuracy: 0.9071 - val_loss: 0.3061 - val_accuracy: 0.9110\n",
            "Epoch 6/10\n",
            "469/469 [==============================] - 21s 45ms/step - loss: 0.3216 - accuracy: 0.9077 - val_loss: 0.3058 - val_accuracy: 0.9137\n",
            "Epoch 7/10\n",
            "469/469 [==============================] - 19s 40ms/step - loss: 0.3183 - accuracy: 0.9094 - val_loss: 0.3040 - val_accuracy: 0.9110\n",
            "Epoch 8/10\n",
            "469/469 [==============================] - 20s 43ms/step - loss: 0.3158 - accuracy: 0.9104 - val_loss: 0.3007 - val_accuracy: 0.9134\n",
            "Epoch 9/10\n",
            "469/469 [==============================] - 19s 40ms/step - loss: 0.3141 - accuracy: 0.9104 - val_loss: 0.3008 - val_accuracy: 0.9139\n",
            "Epoch 10/10\n",
            "469/469 [==============================] - 20s 43ms/step - loss: 0.3114 - accuracy: 0.9115 - val_loss: 0.2960 - val_accuracy: 0.9161\n"
          ]
        },
        {
          "output_type": "execute_result",
          "data": {
            "text/plain": [
              "<keras.src.callbacks.History at 0x7b1742c319f0>"
            ]
          },
          "metadata": {},
          "execution_count": 24
        }
      ],
      "source": [
        "#train cnn model\n",
        "model.fit(X_train,y_train,epochs=10,validation_data=(X_test,y_test),batch_size=128, verbose=1)\n",
        "\n",
        "#60000/128=469batches\n",
        "#in one batch= 128 images\n",
        "#epochs=10"
      ]
    },
    {
      "cell_type": "code",
      "execution_count": 23,
      "id": "fc8612b0",
      "metadata": {
        "colab": {
          "base_uri": "https://localhost:8080/"
        },
        "id": "fc8612b0",
        "outputId": "f90d266a-f636-44f5-8faf-4fff9edffe3e"
      },
      "outputs": [
        {
          "output_type": "stream",
          "name": "stdout",
          "text": [
            "313/313 [==============================] - 1s 4ms/step - loss: 0.3208 - accuracy: 0.9068\n"
          ]
        },
        {
          "output_type": "execute_result",
          "data": {
            "text/plain": [
              "[0.3208405375480652, 0.9067999720573425]"
            ]
          },
          "metadata": {},
          "execution_count": 23
        }
      ],
      "source": [
        "model.evaluate(X_test,y_test)"
      ]
    },
    {
      "cell_type": "code",
      "execution_count": null,
      "id": "8b78fa83",
      "metadata": {
        "id": "8b78fa83"
      },
      "outputs": [],
      "source": []
    },
    {
      "cell_type": "code",
      "execution_count": null,
      "id": "d8863857",
      "metadata": {
        "id": "d8863857"
      },
      "outputs": [],
      "source": []
    },
    {
      "cell_type": "code",
      "execution_count": null,
      "id": "e5f20792",
      "metadata": {
        "id": "e5f20792"
      },
      "outputs": [],
      "source": []
    },
    {
      "cell_type": "code",
      "execution_count": null,
      "id": "0352b0a4",
      "metadata": {
        "id": "0352b0a4"
      },
      "outputs": [],
      "source": []
    }
  ],
  "metadata": {
    "kernelspec": {
      "display_name": "Python 3",
      "name": "python3"
    },
    "language_info": {
      "codemirror_mode": {
        "name": "ipython",
        "version": 3
      },
      "file_extension": ".py",
      "mimetype": "text/x-python",
      "name": "python",
      "nbconvert_exporter": "python",
      "pygments_lexer": "ipython3",
      "version": "3.10.9"
    },
    "colab": {
      "provenance": [],
      "gpuType": "T4"
    },
    "accelerator": "GPU"
  },
  "nbformat": 4,
  "nbformat_minor": 5
}